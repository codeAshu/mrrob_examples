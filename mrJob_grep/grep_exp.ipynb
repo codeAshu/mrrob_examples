{
 "cells": [
  {
   "cell_type": "code",
   "execution_count": null,
   "metadata": {
    "collapsed": true
   },
   "outputs": [],
   "source": [
    "# %load grep.py\n",
    "\"\"\"Return all input lines matching the given expression.\"\"\"\n",
    "from mrjob.job import MRJob\n",
    "from mrjob.util import cmd_line\n",
    "\n",
    "\n",
    "class MRGrepJob(MRJob):\n",
    "\n",
    "    def configure_options(self):\n",
    "        super(MRGrepJob, self).configure_options()\n",
    "\n",
    "        self.add_passthrough_option(\n",
    "            '-e', '--expression', type='str', default=None,\n",
    "            help=( 'Expression to search for. Required.'))\n",
    "\n",
    "    def mapper_cmd(self):\n",
    "        if self.options.expression is None:\n",
    "            raise ValueError(\"Must specify --expression\")\n",
    "        return cmd_line(['grep', '-e', self.options.expression])\n",
    "\n",
    "\n",
    "if __name__ == '__main__':\n",
    "    MRGrepJob().run()\n"
   ]
  },
  {
   "cell_type": "code",
   "execution_count": 6,
   "metadata": {
    "collapsed": false
   },
   "outputs": [],
   "source": [
    "from mrjob.util import cmd_line"
   ]
  },
  {
   "cell_type": "code",
   "execution_count": 8,
   "metadata": {
    "collapsed": false
   },
   "outputs": [
    {
     "data": {
      "text/plain": [
       "'grep -e jdk'"
      ]
     },
     "execution_count": 8,
     "metadata": {},
     "output_type": "execute_result"
    }
   ],
   "source": [
    "cmd_line(['grep', '-e', \"jdk\"])"
   ]
  },
  {
   "cell_type": "code",
   "execution_count": 9,
   "metadata": {
    "collapsed": false
   },
   "outputs": [
    {
     "name": "stdout",
     "output_type": "stream",
     "text": [
      "no configs found; falling back on auto-configuration\r\n",
      "no configs found; falling back on auto-configuration\r\n",
      "creating tmp directory /tmp/grep.root.20160322.174251.864419\r\n",
      "\r\n",
      "PLEASE NOTE: Starting in mrjob v0.5.0, protocols will be strict by default. It's recommended you run your job with --strict-protocols or set up mrjob.conf as described at https://pythonhosted.org/mrjob/whats-new.html#ready-for-strict-protocols\r\n",
      "\r\n",
      "Traceback (most recent call last):\r\n",
      "  File \"grep.py\", line 22, in <module>\r\n",
      "    MRGrepJob().run()\r\n",
      "  File \"/root/.env/dev7/lib/python2.7/site-packages/mrjob/job.py\", line 461, in run\r\n",
      "    mr_job.execute()\r\n",
      "  File \"/root/.env/dev7/lib/python2.7/site-packages/mrjob/job.py\", line 479, in execute\r\n",
      "    super(MRJob, self).execute()\r\n",
      "  File \"/root/.env/dev7/lib/python2.7/site-packages/mrjob/launch.py\", line 153, in execute\r\n",
      "    self.run_job()\r\n",
      "  File \"/root/.env/dev7/lib/python2.7/site-packages/mrjob/launch.py\", line 216, in run_job\r\n",
      "    runner.run()\r\n",
      "  File \"/root/.env/dev7/lib/python2.7/site-packages/mrjob/runner.py\", line 470, in run\r\n",
      "    self._run()\r\n",
      "  File \"/root/.env/dev7/lib/python2.7/site-packages/mrjob/sim.py\", line 170, in _run\r\n",
      "    self._check_step_works_with_runner(step)\r\n",
      "  File \"/root/.env/dev7/lib/python2.7/site-packages/mrjob/inline.py\", line 97, in _check_step_works_with_runner\r\n",
      "    substep['type'])\r\n",
      "Exception: InlineMRJobRunner cannot run command steps.\r\n"
     ]
    }
   ],
   "source": [
    "!python grep.py -e \"jdk\" derby.log"
   ]
  },
  {
   "cell_type": "code",
   "execution_count": null,
   "metadata": {
    "collapsed": true
   },
   "outputs": [],
   "source": []
  }
 ],
 "metadata": {
  "kernelspec": {
   "display_name": "Python 2",
   "language": "python",
   "name": "python2"
  },
  "language_info": {
   "codemirror_mode": {
    "name": "ipython",
    "version": 2
   },
   "file_extension": ".py",
   "mimetype": "text/x-python",
   "name": "python",
   "nbconvert_exporter": "python",
   "pygments_lexer": "ipython2",
   "version": "2.7.6"
  }
 },
 "nbformat": 4,
 "nbformat_minor": 0
}
