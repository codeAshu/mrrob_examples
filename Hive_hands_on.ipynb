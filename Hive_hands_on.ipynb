{
 "cells": [
  {
   "cell_type": "markdown",
   "metadata": {},
   "source": [
    "## Hive Hands On "
   ]
  },
  {
   "cell_type": "markdown",
   "metadata": {},
   "source": [
    "### `Run word count for two files which are there in hdfs pg4300 , pg5000 downloaded from gutenburg project `"
   ]
  },
  {
   "cell_type": "code",
   "execution_count": 2,
   "metadata": {
    "collapsed": false,
    "scrolled": true
   },
   "outputs": [
    {
     "name": "stdout",
     "output_type": "stream",
     "text": [
      "16/03/24 03:03:17 WARN streaming.StreamJob: -file option is deprecated, please use generic option -files instead.\n",
      "16/03/24 03:03:17 WARN util.NativeCodeLoader: Unable to load native-hadoop library for your platform... using builtin-java classes where applicable\n",
      "packageJobJar: [/root/python_mr/word_count/count_mapper.py, /root/python_mr/word_count/count_reducer.py, /tmp/hadoop-unjar1458932490324193186/] [] /tmp/streamjob942824628985982113.jar tmpDir=null\n",
      "16/03/24 03:03:18 INFO client.RMProxy: Connecting to ResourceManager at /10.211.55.101:8032\n",
      "16/03/24 03:03:19 INFO client.RMProxy: Connecting to ResourceManager at /10.211.55.101:8032\n",
      "16/03/24 03:03:20 INFO mapred.FileInputFormat: Total input paths to process : 1\n",
      "16/03/24 03:03:20 INFO mapreduce.JobSubmitter: number of splits:2\n",
      "16/03/24 03:03:20 INFO mapreduce.JobSubmitter: Submitting tokens for job: job_1458650496725_0024\n",
      "16/03/24 03:03:20 INFO impl.YarnClientImpl: Submitted application application_1458650496725_0024\n",
      "16/03/24 03:03:20 INFO mapreduce.Job: The url to track the job: http://10.211.55.101:8088/proxy/application_1458650496725_0024/\n",
      "16/03/24 03:03:20 INFO mapreduce.Job: Running job: job_1458650496725_0024\n",
      "16/03/24 03:03:30 INFO mapreduce.Job: Job job_1458650496725_0024 running in uber mode : false\n",
      "16/03/24 03:03:30 INFO mapreduce.Job:  map 0% reduce 0%\n",
      "16/03/24 03:03:41 INFO mapreduce.Job:  map 50% reduce 0%\n",
      "16/03/24 03:03:42 INFO mapreduce.Job:  map 100% reduce 0%\n",
      "16/03/24 03:03:49 INFO mapreduce.Job:  map 100% reduce 100%\n",
      "16/03/24 03:03:50 INFO mapreduce.Job: Job job_1458650496725_0024 completed successfully\n",
      "16/03/24 03:03:50 INFO mapreduce.Job: Counters: 49\n",
      "\tFile System Counters\n",
      "\t\tFILE: Number of bytes read=576248\n",
      "\t\tFILE: Number of bytes written=1514840\n",
      "\t\tFILE: Number of read operations=0\n",
      "\t\tFILE: Number of large read operations=0\n",
      "\t\tFILE: Number of write operations=0\n",
      "\t\tHDFS: Number of bytes read=532910\n",
      "\t\tHDFS: Number of bytes written=551164\n",
      "\t\tHDFS: Number of read operations=9\n",
      "\t\tHDFS: Number of large read operations=0\n",
      "\t\tHDFS: Number of write operations=2\n",
      "\tJob Counters \n",
      "\t\tLaunched map tasks=2\n",
      "\t\tLaunched reduce tasks=1\n",
      "\t\tData-local map tasks=2\n",
      "\t\tTotal time spent by all maps in occupied slots (ms)=17957\n",
      "\t\tTotal time spent by all reduces in occupied slots (ms)=4998\n",
      "\t\tTotal time spent by all map tasks (ms)=17957\n",
      "\t\tTotal time spent by all reduce tasks (ms)=4998\n",
      "\t\tTotal vcore-milliseconds taken by all map tasks=17957\n",
      "\t\tTotal vcore-milliseconds taken by all reduce tasks=4998\n",
      "\t\tTotal megabyte-milliseconds taken by all map tasks=18387968\n",
      "\t\tTotal megabyte-milliseconds taken by all reduce tasks=5117952\n",
      "\tMap-Reduce Framework\n",
      "\t\tMap input records=4048\n",
      "\t\tMap output records=11612\n",
      "\t\tMap output bytes=552292\n",
      "\t\tMap output materialized bytes=576254\n",
      "\t\tInput split bytes=186\n",
      "\t\tCombine input records=0\n",
      "\t\tCombine output records=0\n",
      "\t\tReduce input groups=11508\n",
      "\t\tReduce shuffle bytes=576254\n",
      "\t\tReduce input records=11612\n",
      "\t\tReduce output records=11508\n",
      "\t\tSpilled Records=23224\n",
      "\t\tShuffled Maps =2\n",
      "\t\tFailed Shuffles=0\n",
      "\t\tMerged Map outputs=2\n",
      "\t\tGC time elapsed (ms)=246\n",
      "\t\tCPU time spent (ms)=2350\n",
      "\t\tPhysical memory (bytes) snapshot=538165248\n",
      "\t\tVirtual memory (bytes) snapshot=6187565056\n",
      "\t\tTotal committed heap usage (bytes)=378470400\n",
      "\tShuffle Errors\n",
      "\t\tBAD_ID=0\n",
      "\t\tCONNECTION=0\n",
      "\t\tIO_ERROR=0\n",
      "\t\tWRONG_LENGTH=0\n",
      "\t\tWRONG_MAP=0\n",
      "\t\tWRONG_REDUCE=0\n",
      "\tFile Input Format Counters \n",
      "\t\tBytes Read=532724\n",
      "\tFile Output Format Counters \n",
      "\t\tBytes Written=551164\n",
      "16/03/24 03:03:50 INFO streaming.StreamJob: Output directory: /user/ashu/pg5000\n"
     ]
    }
   ],
   "source": [
    "! hadoop jar /usr/local/hadoop/share/hadoop/tools/lib/hadoop-streaming-2.7.2.jar \\\n",
    "-file /root/python_mr/word_count/count_mapper.py -mapper /root/python_mr/word_count/count_mapper.py \\\n",
    "-file  /root/python_mr/word_count/count_reducer.py -reducer  /root/python_mr/word_count/count_reducer.py \\\n",
    "-input /user/ashu/pg5000.txt \\\n",
    "-output /user/ashu/pg5000"
   ]
  },
  {
   "cell_type": "code",
   "execution_count": null,
   "metadata": {
    "collapsed": true
   },
   "outputs": [],
   "source": [
    "! hadoop jar /usr/local/hadoop/share/hadoop/tools/lib/hadoop-streaming-2.7.2.jar \\\n",
    "-file /root/python_mr/word_count/count_mapper.py -mapper /root/python_mr/word_count/count_mapper.py \\\n",
    "-file  /root/python_mr/word_count/count_reducer.py -reducer  /root/python_mr/word_count/count_reducer.py \\\n",
    "-input /user/ashu/pg4300.txt \\\n",
    "-output /user/ashu/pg4300"
   ]
  },
  {
   "cell_type": "markdown",
   "metadata": {},
   "source": [
    "__Check if the data is there in the output,\n",
    "remove the \\_SUCCESS__\n",
    "\n",
    "```\n",
    "hdfs dfs -ls -h /user/ashu/pg4300\n",
    "```\n",
    "\n",
    "```\n",
    "hdfs dfs -rm /user/ashu/pg4300/_SUCCESS\n",
    "```\n",
    "\n",
    "```\n",
    "hdfs dfs -rm /user/ashu/pg5000/_SUCCESS\n",
    "```"
   ]
  },
  {
   "cell_type": "markdown",
   "metadata": {},
   "source": [
    "### `Create Table schema for both`"
   ]
  },
  {
   "cell_type": "markdown",
   "metadata": {},
   "source": [
    "```Sql\n",
    "CREATE TABLE pg4300 (word STRING, freq\n",
    "  INT)  ROW FORMAT\n",
    "  DELIMITED FIELDS TERMINATED BY '\\t'\n",
    "  STORED AS TEXTFILE;\n",
    "```"
   ]
  },
  {
   "cell_type": "markdown",
   "metadata": {},
   "source": [
    "```Sql\n",
    "CREATE TABLE pg5000 (word STRING, freq\n",
    "  INT)  ROW FORMAT\n",
    "  DELIMITED FIELDS TERMINATED BY '\\t'\n",
    "  STORED AS TEXTFILE;\n",
    "```"
   ]
  },
  {
   "cell_type": "markdown",
   "metadata": {},
   "source": [
    "```Sql \n",
    "DESCRIBE pg4300;\n",
    "```"
   ]
  },
  {
   "cell_type": "markdown",
   "metadata": {},
   "source": [
    "### `Load dataset into Hive:`\n",
    "\n",
    "```Sql\n",
    "LOAD DATA INPATH '/user/ashu/pg4300/'\n",
    "      INTO TABLE pg4300;\n",
    "```\n",
    "\n",
    "```Sql\n",
    "SELECT * FROM pg4300 LIMIT 10;\n",
    "```\n",
    "\n",
    "\n",
    "```Sql\n",
    "LOAD DATA INPATH '/user/ashu/pg5000/'\n",
    "      INTO TABLE pg5000;\n",
    "```\n",
    "\n",
    "```Sql\n",
    "SELECT * FROM pg5000 LIMIT 10;\n",
    "```"
   ]
  },
  {
   "cell_type": "markdown",
   "metadata": {},
   "source": [
    "### `Lets run more sqls`\n",
    "\n",
    "```Sql\n",
    "SELECT * FROM pg4300 WHERE freq > 100 SORT BY freq ASC LIMIT 10;\n",
    "```\n",
    "\n",
    "```Sql\n",
    "SELECT * FROM pg5000 WHERE freq > 100 SORT BY freq ASC LIMIT 10;\n",
    "```\n"
   ]
  },
  {
   "cell_type": "markdown",
   "metadata": {},
   "source": [
    "### `Most common frequency`\n",
    "\n",
    "```Sql\n",
    "SELECT freq, COUNT(1) AS f2\n",
    "    FROM pg4300 GROUP BY freq\n",
    "    SORT BY f2 DESC LIMIT 10;\n",
    "```\n",
    "\n",
    "```Sql\n",
    "SELECT freq, COUNT(1) AS f2\n",
    "    FROM pg5000 GROUP BY freq\n",
    "    SORT BY f2 DESC LIMIT 10;\n",
    "```\n",
    "\n",
    "\n",
    "### `When you want to know what happens under the hood!`\n",
    "\n",
    "```Sql\n",
    "EXPLAIN SELECT freq, COUNT(1) AS f2\n",
    "    FROM pg4300 GROUP BY freq\n",
    "    SORT BY f2 DESC LIMIT 10;\n",
    "```"
   ]
  },
  {
   "cell_type": "markdown",
   "metadata": {},
   "source": [
    "## Joins\n",
    "A powerful feature of Hive is the ability to create queries that join tables together"
   ]
  },
  {
   "cell_type": "markdown",
   "metadata": {},
   "source": [
    "```Sql\n",
    "CREATE TABLE merged\n",
    "    (word STRING, pg4300_f INT,\n",
    "    pg5000_f INT);\n",
    "```"
   ]
  },
  {
   "cell_type": "markdown",
   "metadata": {},
   "source": [
    "```Sql\n",
    "INSERT OVERWRITE TABLE merged\n",
    "  SELECT s.word, s.freq, k.freq FROM\n",
    "  pg4300 s JOIN pg5000 k ON\n",
    "  (s.word = k.word)\n",
    "```"
   ]
  },
  {
   "cell_type": "markdown",
   "metadata": {},
   "source": [
    "### `Let's look at the meged Table `"
   ]
  },
  {
   "cell_type": "markdown",
   "metadata": {},
   "source": [
    "```Sql\n",
    "SELECT * FROM merged LIMIT 20;\n",
    "```"
   ]
  },
  {
   "cell_type": "markdown",
   "metadata": {},
   "source": [
    "```Sql\n",
    "SELECT word,pg4300_f, pg5000_f,\n",
    "    (pg4300_f + pg5000_f) AS ss\n",
    "    FROM merged SORT BY ss DESC\n",
    "    LIMIT 20;\n",
    "\n",
    "```"
   ]
  },
  {
   "cell_type": "markdown",
   "metadata": {},
   "source": [
    "### `Reference`\n",
    "- https://cwiki.apache.org/confluence/display/Hive/LanguageManual+Select\n",
    "- https://cwiki.apache.org/confluence/display/Hive/LanguageManual+Explain    "
   ]
  }
 ],
 "metadata": {
  "kernelspec": {
   "display_name": "Python 2",
   "language": "python",
   "name": "python2"
  },
  "language_info": {
   "codemirror_mode": {
    "name": "ipython",
    "version": 2
   },
   "file_extension": ".py",
   "mimetype": "text/x-python",
   "name": "python",
   "nbconvert_exporter": "python",
   "pygments_lexer": "ipython2",
   "version": "2.7.6"
  }
 },
 "nbformat": 4,
 "nbformat_minor": 0
}
